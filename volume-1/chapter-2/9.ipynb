{
 "cells": [
  {
   "cell_type": "code",
   "execution_count": 2,
   "metadata": {},
   "outputs": [],
   "source": [
    "@enum Toss H T"
   ]
  },
  {
   "cell_type": "code",
   "execution_count": 9,
   "metadata": {},
   "outputs": [
    {
     "data": {
      "text/plain": [
       "r (generic function with 2 methods)"
      ]
     },
     "execution_count": 9,
     "metadata": {},
     "output_type": "execute_result"
    }
   ],
   "source": [
    "function r()\n",
    "    return 1/4\n",
    "end\n",
    "\n",
    "function r(ω::Toss)\n",
    "    if ω == H\n",
    "        return 1/4\n",
    "    else\n",
    "        return 1/2\n",
    "    end\n",
    "end;"
   ]
  },
  {
   "cell_type": "code",
   "execution_count": 13,
   "metadata": {},
   "outputs": [
    {
     "data": {
      "text/plain": [
       "u (generic function with 2 methods)"
      ]
     },
     "execution_count": 13,
     "metadata": {},
     "output_type": "execute_result"
    }
   ],
   "source": [
    "function u()\n",
    "    return 2\n",
    "end\n",
    "\n",
    "function u(ω::Toss)\n",
    "    if ω == H\n",
    "        return 3/2\n",
    "    else\n",
    "        return 4\n",
    "    end\n",
    "end;"
   ]
  },
  {
   "cell_type": "code",
   "execution_count": 16,
   "metadata": {},
   "outputs": [],
   "source": [
    "function d()\n",
    "    return 1/2\n",
    "end\n",
    "\n",
    "function d(ω::Toss)\n",
    "    if ω == H\n",
    "        return 1\n",
    "    else\n",
    "        return 1\n",
    "    end\n",
    "end;"
   ]
  },
  {
   "cell_type": "code",
   "execution_count": 3,
   "metadata": {},
   "outputs": [],
   "source": [
    "p̃(ω::Toss...) = (1 + r(ω...) - d(ω...))/(u(ω...) - d(ω...));"
   ]
  },
  {
   "cell_type": "code",
   "execution_count": 4,
   "metadata": {},
   "outputs": [],
   "source": [
    "q̃(ω::Toss...) = (u(ω...) - 1 - r(ω...))/(u(ω...) - d(ω...));"
   ]
  },
  {
   "cell_type": "code",
   "execution_count": 29,
   "metadata": {},
   "outputs": [
    {
     "data": {
      "text/plain": [
       "(0.25, 0.25, 0.08333333333333333, 0.4166666666666667)"
      ]
     },
     "execution_count": 29,
     "metadata": {},
     "output_type": "execute_result"
    }
   ],
   "source": [
    "function ℙ̃(ω::Toss...)\n",
    "    i = length(ω)\n",
    "    if i == 1\n",
    "        if ω[i] == H\n",
    "            return p̃()\n",
    "        else\n",
    "            return q̃()\n",
    "        end\n",
    "    elseif i > 0\n",
    "        ℙ̃ᵢ₋₁ = ℙ̃(ω[1 : end - 1]...)\n",
    "        if ω[i] == H\n",
    "            return ℙ̃ᵢ₋₁*p̃(ω[1 : end - 1]...)\n",
    "        else\n",
    "            return ℙ̃ᵢ₋₁*q̃(ω[1 : end - 1]...)\n",
    "        end \n",
    "    else\n",
    "        error(\"out of domain parameter\")\n",
    "    end\n",
    "end;\n",
    "ℙ̃(H, H), ℙ̃(H, T), ℙ̃(T, H), ℙ̃(T, T)"
   ]
  },
  {
   "cell_type": "code",
   "execution_count": 30,
   "metadata": {},
   "outputs": [],
   "source": [
    "function S(ω::Toss...)\n",
    "    i = length(ω)\n",
    "    if i == 0\n",
    "        return S₀\n",
    "    else\n",
    "        Sᵢ₋₁ = S(ω[1 : end - 1]...)\n",
    "        uᵢ₋₁ = u(ω[1 : end - 1]...)\n",
    "        dᵢ₋₁ = d(ω[1 : end - 1]...)\n",
    "        if ω[i] == H\n",
    "            return uᵢ₋₁*Sᵢ₋₁\n",
    "        else\n",
    "            return dᵢ₋₁*Sᵢ₋₁\n",
    "        end\n",
    "    end\n",
    "end;"
   ]
  },
  {
   "cell_type": "code",
   "execution_count": 31,
   "metadata": {},
   "outputs": [],
   "source": [
    "function V(ω::Toss...)\n",
    "    i = length(ω)\n",
    "    if i == τ\n",
    "        # derivative payoff\n",
    "        return P(ω...)\n",
    "    elseif i < τ\n",
    "        # formula (1.2.16)\n",
    "        return 1/(1 + r(ω...))*(p̃(ω...)*V(ω..., H) + q̃(ω...)*V(ω..., T))\n",
    "    else\n",
    "        error(\"out of domain parameter\")\n",
    "    end\n",
    "end;"
   ]
  },
  {
   "cell_type": "code",
   "execution_count": 33,
   "metadata": {},
   "outputs": [
    {
     "data": {
      "text/plain": [
       "4"
      ]
     },
     "execution_count": 33,
     "metadata": {},
     "output_type": "execute_result"
    }
   ],
   "source": [
    "S₀ = 4"
   ]
  },
  {
   "cell_type": "code",
   "execution_count": 35,
   "metadata": {},
   "outputs": [],
   "source": [
    "K = 7\n",
    "P(ω...) = max(0, S(ω...) - K);"
   ]
  },
  {
   "cell_type": "code",
   "execution_count": 37,
   "metadata": {},
   "outputs": [
    {
     "data": {
      "text/plain": [
       "2"
      ]
     },
     "execution_count": 37,
     "metadata": {},
     "output_type": "execute_result"
    }
   ],
   "source": [
    "τ = 2"
   ]
  },
  {
   "cell_type": "code",
   "execution_count": 39,
   "metadata": {},
   "outputs": [
    {
     "data": {
      "text/plain": [
       "1.0044444444444447"
      ]
     },
     "execution_count": 39,
     "metadata": {},
     "output_type": "execute_result"
    }
   ],
   "source": [
    "V()"
   ]
  },
  {
   "cell_type": "code",
   "execution_count": 40,
   "metadata": {},
   "outputs": [
    {
     "data": {
      "text/plain": [
       "2.4000000000000004"
      ]
     },
     "execution_count": 40,
     "metadata": {},
     "output_type": "execute_result"
    }
   ],
   "source": [
    "V(H)"
   ]
  },
  {
   "cell_type": "code",
   "execution_count": 41,
   "metadata": {},
   "outputs": [
    {
     "data": {
      "text/plain": [
       "0.1111111111111111"
      ]
     },
     "execution_count": 41,
     "metadata": {},
     "output_type": "execute_result"
    }
   ],
   "source": [
    "V(T)"
   ]
  },
  {
   "cell_type": "code",
   "execution_count": 42,
   "metadata": {},
   "outputs": [],
   "source": [
    "Δ(ω::Toss...) = (V(ω..., H) - V(ω..., T))/(S(ω..., H) - S(ω..., T));"
   ]
  },
  {
   "cell_type": "code",
   "execution_count": 43,
   "metadata": {},
   "outputs": [
    {
     "data": {
      "text/plain": [
       "0.38148148148148153"
      ]
     },
     "execution_count": 43,
     "metadata": {},
     "output_type": "execute_result"
    }
   ],
   "source": [
    "Δ()"
   ]
  },
  {
   "cell_type": "code",
   "execution_count": 44,
   "metadata": {},
   "outputs": [
    {
     "data": {
      "text/plain": [
       "1.0"
      ]
     },
     "execution_count": 44,
     "metadata": {},
     "output_type": "execute_result"
    }
   ],
   "source": [
    "Δ(H)"
   ]
  },
  {
   "cell_type": "code",
   "execution_count": null,
   "metadata": {},
   "outputs": [],
   "source": []
  }
 ],
 "metadata": {
  "kernelspec": {
   "display_name": "Julia 1.1.0",
   "language": "julia",
   "name": "julia-1.1"
  },
  "language_info": {
   "file_extension": ".jl",
   "mimetype": "application/julia",
   "name": "julia",
   "version": "1.1.0"
  }
 },
 "nbformat": 4,
 "nbformat_minor": 2
}
