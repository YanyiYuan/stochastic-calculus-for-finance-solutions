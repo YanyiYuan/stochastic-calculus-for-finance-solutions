{
 "cells": [
  {
   "cell_type": "markdown",
   "metadata": {},
   "source": [
    "**Exercise 1.5.** In Example 1.2.4, we considered an agent who sold the lookback option for $V_0 = 1.376$ and bought $\\Delta_0 = 0.1733$ shares of stock at time zero. At time one, if the stock goes up, she has a portfolio valued at $V_1(H) = 2.24$. Assume that she now takes a position of $\\Delta_1(H) = \\frac{V_2(HH) − V_2(HT)}{S_2(HH) − S_2(HT)}$ in the stock. Show that, at time two, if the stock goes up again, she will have a portfolio valued at $V_2(HH) = 3.20$, whereas if the stock goes down, her portfolio will be worth $V_2(HT) = 2.40$. Finally, under the assumption that the stock goes up in the first period and down in the second period, assume the agent takes a position of $\\Delta_2(HT) = \\frac{V_3(HTH) − V_3(HTT)}{S_3(HTH)−S_3(HTT)}$ in the stock. Show that, at time three, if the stock goes up in the third period, she will have a portfolio valued at $V_3(HTH) = 0$, whereas if the stock goes down, her portfolio will be worth $V_3(HTT) = 6$. In other words, she has hedged her short position in the option.\n",
    "\n",
    "---\n",
    "\n",
    "The excercise asks us to prove:\n",
    "\n",
    "$$\n",
    "\\begin{cases}\n",
    "X_2(HH) = V_2(HH) = 3.20 \\\\\n",
    "X_2(HT) = V_2(HT) = 2.40 \\\\\n",
    "X_3(HTH) = V_3(HTH) = 0 \\\\\n",
    "X_3(HTT) = V_3(HTT) = 6\n",
    "\\end{cases}.\n",
    "$$\n",
    "\n",
    "---\n",
    "\n",
    "As given by Example 1.2.4 and the excercise, we define $S_0$, $r$, $u$, $d$ and $V_0$:"
   ]
  },
  {
   "cell_type": "code",
   "execution_count": 1,
   "metadata": {},
   "outputs": [],
   "source": [
    "S₀ = 4\n",
    "r = 1/4\n",
    "u = 2\n",
    "d = 1/2\n",
    "p̃ = q̃ = 1/2\n",
    "V₀ = 1.376;"
   ]
  },
  {
   "cell_type": "markdown",
   "metadata": {},
   "source": [
    "We define the Toss enum:"
   ]
  },
  {
   "cell_type": "code",
   "execution_count": 2,
   "metadata": {},
   "outputs": [],
   "source": [
    "@enum Toss H T"
   ]
  },
  {
   "cell_type": "markdown",
   "metadata": {},
   "source": [
    "Given $S_0$, $u$ and $d$ we define $S(\\omega_1 \\omega_2 \\ldots \\omega_i) = S_i$:"
   ]
  },
  {
   "cell_type": "code",
   "execution_count": 3,
   "metadata": {},
   "outputs": [],
   "source": [
    "function S(ω::Toss...)\n",
    "    i = length(ω)\n",
    "    if i == 0\n",
    "        return S₀\n",
    "    else\n",
    "        Sᵢ₋₁ = S(ω[1 : end - 1]...)\n",
    "        if ω[i] == H\n",
    "            return u*Sᵢ₋₁\n",
    "        else\n",
    "            return d*Sᵢ₋₁\n",
    "        end\n",
    "    end\n",
    "end;"
   ]
  },
  {
   "cell_type": "markdown",
   "metadata": {},
   "source": [
    "Given the lookback option payoff\n",
    "\n",
    "$$V_3 = \\max_{0 \\leq n \\leq 3} S_n - S_3$$\n",
    "\n",
    "and the formula (1.2.16)\n",
    "\n",
    "$$V_i = \\frac{1}{1 + r} (\\tilde p V_{i + 1}(H) + \\tilde q V_{i + 1}(T)),$$\n",
    "\n",
    "we define $V(\\omega_1 \\omega_2 \\ldots \\omega_i) = V_i$:"
   ]
  },
  {
   "cell_type": "code",
   "execution_count": 4,
   "metadata": {},
   "outputs": [],
   "source": [
    "function V(ω::Toss...)\n",
    "    i = length(ω)\n",
    "    if i == 3\n",
    "        S₁ = S(ω[1])\n",
    "        S₂ = S(ω[1 : 2]...)\n",
    "        S₃ = S(ω[1 : 3]...)\n",
    "        # lookback option payoff\n",
    "        return max(S₀ - S₃, S₁ - S₃, S₂ - S₃, S₃ - S₃)\n",
    "    elseif i < 3\n",
    "        # formula (1.2.16)\n",
    "        return 1/(1 + r)*(p̃*V(ω..., H) + q̃*V(ω..., T))\n",
    "    else\n",
    "        error(\"out of domain parameter\")\n",
    "    end\n",
    "end;"
   ]
  },
  {
   "cell_type": "markdown",
   "metadata": {},
   "source": [
    "From the formula (1.2.17)\n",
    "\n",
    "$$\\Delta_i = \\frac{V_{i + 1}(H) - V_{i + 1}(T)}{S_{i + 1}(H) - S_{i + 1}(T)},$$\n",
    "\n",
    "we define $\\Delta(\\omega_1 \\omega_2 \\ldots \\omega_i) = \\Delta_i$:"
   ]
  },
  {
   "cell_type": "code",
   "execution_count": 5,
   "metadata": {},
   "outputs": [],
   "source": [
    "Δ(ω::Toss...) = (V(ω..., H) - V(ω..., T))/(S(ω..., H) - S(ω..., T));"
   ]
  },
  {
   "cell_type": "markdown",
   "metadata": {},
   "source": [
    "The initial wealth is obtained by selling the lookback option for $V_0$:\n",
    "\n",
    "$$X_0 = V_0.$$\n",
    "\n",
    "Given the *wealth equation* formula (1.2.14)\n",
    "\n",
    "$$X_{n + 1} = \\Delta_n S_{n + 1} + (1 + r)(X_n - \\Delta_n S_n).$$\n",
    "\n",
    "Let\n",
    "\n",
    "$$i = n + 1.$$\n",
    "\n",
    "We can rewrite the *wealth equation* as\n",
    "\n",
    "$$X_i = \\Delta_{i - 1} S_i + (1 + r)(X_{i - 1} - \\Delta_{i - 1} S_{i - i}).$$\n",
    "\n",
    "So, we define $X(\\omega_1 \\omega_2 \\ldots \\omega_i) = X_i$:"
   ]
  },
  {
   "cell_type": "code",
   "execution_count": 6,
   "metadata": {},
   "outputs": [],
   "source": [
    "function X(ω::Toss...)\n",
    "    i = length(ω)\n",
    "    if i == 0\n",
    "        # X₀ = V₀\n",
    "        return V₀\n",
    "    else\n",
    "        Δᵢ₋₁ = Δ(ω[1 : end - 1]...)\n",
    "        Sᵢ = S(ω...)\n",
    "        Xᵢ₋₁ = X(ω[1 : end - 1]...)\n",
    "        Sᵢ₋₁ = S(ω[1 : end - 1]...)\n",
    "        # formula (1.2.14)\n",
    "        return Δᵢ₋₁*Sᵢ + (1 + r)*(Xᵢ₋₁ - Δᵢ₋₁*Sᵢ₋₁)\n",
    "    end\n",
    "end;"
   ]
  },
  {
   "cell_type": "markdown",
   "metadata": {},
   "source": [
    "Since we are dealing with floating point numbers we check equalities with `isapprox` function using the equivalent `≈` operator.\n",
    "\n",
    "$X_2(HH) = V_2(HH) = 3.20$:"
   ]
  },
  {
   "cell_type": "code",
   "execution_count": 7,
   "metadata": {},
   "outputs": [
    {
     "data": {
      "text/plain": [
       "3.1999999999999997"
      ]
     },
     "execution_count": 7,
     "metadata": {},
     "output_type": "execute_result"
    }
   ],
   "source": [
    "X(H, H)"
   ]
  },
  {
   "cell_type": "code",
   "execution_count": 8,
   "metadata": {},
   "outputs": [
    {
     "data": {
      "text/plain": [
       "true"
      ]
     },
     "execution_count": 8,
     "metadata": {},
     "output_type": "execute_result"
    }
   ],
   "source": [
    "X(H, H) ≈ V(H, H)"
   ]
  },
  {
   "cell_type": "markdown",
   "metadata": {},
   "source": [
    "$X_2(HT) = V_2(HT) = 2.40$:"
   ]
  },
  {
   "cell_type": "code",
   "execution_count": 9,
   "metadata": {},
   "outputs": [
    {
     "data": {
      "text/plain": [
       "2.4"
      ]
     },
     "execution_count": 9,
     "metadata": {},
     "output_type": "execute_result"
    }
   ],
   "source": [
    "X(H, T)"
   ]
  },
  {
   "cell_type": "code",
   "execution_count": 10,
   "metadata": {},
   "outputs": [
    {
     "data": {
      "text/plain": [
       "true"
      ]
     },
     "execution_count": 10,
     "metadata": {},
     "output_type": "execute_result"
    }
   ],
   "source": [
    "X(H, T) ≈ V(H, T)"
   ]
  },
  {
   "cell_type": "markdown",
   "metadata": {},
   "source": [
    "$X_3(HTH) = V_3(HTH) = 0$:"
   ]
  },
  {
   "cell_type": "code",
   "execution_count": 11,
   "metadata": {},
   "outputs": [
    {
     "data": {
      "text/plain": [
       "0.0"
      ]
     },
     "execution_count": 11,
     "metadata": {},
     "output_type": "execute_result"
    }
   ],
   "source": [
    "X(H, T, H)"
   ]
  },
  {
   "cell_type": "code",
   "execution_count": 12,
   "metadata": {},
   "outputs": [
    {
     "data": {
      "text/plain": [
       "true"
      ]
     },
     "execution_count": 12,
     "metadata": {},
     "output_type": "execute_result"
    }
   ],
   "source": [
    "X(H, T, H) ≈ V(H, T, H)"
   ]
  },
  {
   "cell_type": "markdown",
   "metadata": {},
   "source": [
    "$X_3(HTT) = V_3(HTT) = 6$:"
   ]
  },
  {
   "cell_type": "code",
   "execution_count": 13,
   "metadata": {},
   "outputs": [
    {
     "data": {
      "text/plain": [
       "6.0"
      ]
     },
     "execution_count": 13,
     "metadata": {},
     "output_type": "execute_result"
    }
   ],
   "source": [
    "X(H, T, T)"
   ]
  },
  {
   "cell_type": "code",
   "execution_count": 14,
   "metadata": {},
   "outputs": [
    {
     "data": {
      "text/plain": [
       "true"
      ]
     },
     "execution_count": 14,
     "metadata": {},
     "output_type": "execute_result"
    }
   ],
   "source": [
    "X(H, T, T) ≈ V(H, T, T)"
   ]
  },
  {
   "cell_type": "markdown",
   "metadata": {},
   "source": [
    "$$\\square$$"
   ]
  }
 ],
 "metadata": {
  "kernelspec": {
   "display_name": "Julia 1.0.2",
   "language": "julia",
   "name": "julia-1.0"
  },
  "language_info": {
   "file_extension": ".jl",
   "mimetype": "application/julia",
   "name": "julia",
   "version": "1.0.3"
  }
 },
 "nbformat": 4,
 "nbformat_minor": 2
}
