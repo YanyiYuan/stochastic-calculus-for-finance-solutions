{
 "cells": [
  {
   "cell_type": "markdown",
   "metadata": {},
   "source": [
    "**Exercise 1.3.** In the one-period binomial model of Section 1.1, suppose we want to determine the price at time zero of the derivative security $V_1 = S_1$ (i.e., the derivative security pays off the stock price.) (This can be regarded as a European call with strike price $K = 0$). What is the time-zero price $V_0$ given by the risk-neutral pricing formula (1.1.10)?\n",
    "\n",
    "---"
   ]
  },
  {
   "cell_type": "markdown",
   "metadata": {},
   "source": [
    "From the formula (1.1.8), we define $\\tilde p$:"
   ]
  },
  {
   "cell_type": "code",
   "execution_count": 1,
   "metadata": {},
   "outputs": [
    {
     "data": {
      "text/latex": [
       "\\begin{equation*}\\frac{- d + r + 1}{- d + u}\\end{equation*}"
      ],
      "text/plain": [
       "-d + r + 1\n",
       "──────────\n",
       "  -d + u  "
      ]
     },
     "execution_count": 1,
     "metadata": {},
     "output_type": "execute_result"
    }
   ],
   "source": [
    "using SymPy\n",
    "@vars r u d\n",
    "p̃ = (1 + r - d)/(u - d)"
   ]
  },
  {
   "cell_type": "markdown",
   "metadata": {},
   "source": [
    "and $\\tilde q$:"
   ]
  },
  {
   "cell_type": "code",
   "execution_count": 2,
   "metadata": {},
   "outputs": [
    {
     "data": {
      "text/latex": [
       "\\begin{equation*}\\frac{- r + u - 1}{- d + u}\\end{equation*}"
      ],
      "text/plain": [
       "-r + u - 1\n",
       "──────────\n",
       "  -d + u  "
      ]
     },
     "execution_count": 2,
     "metadata": {},
     "output_type": "execute_result"
    }
   ],
   "source": [
    "q̃ = (u - 1 - r)/(u - d)"
   ]
  },
  {
   "cell_type": "markdown",
   "metadata": {},
   "source": [
    "As given by the excercise:\n",
    "\n",
    "$$V_1 = S_1.$$\n",
    "\n",
    "We know that\n",
    "\n",
    "$$\n",
    "\\begin{cases}\n",
    "S_1(H) = S_0 u \\\\\n",
    "S_1(T) = S_0 d\n",
    "\\end{cases}.\n",
    "$$\n",
    "\n",
    "Therefore, by the formula (1.1.10)\n",
    "\n",
    "$$V_0 = \\frac{1}{1 + r} (\\tilde p V_1(H) + \\tilde q V_1(T)),$$\n",
    "\n",
    "we have $V_0$:"
   ]
  },
  {
   "cell_type": "code",
   "execution_count": 3,
   "metadata": {},
   "outputs": [
    {
     "data": {
      "text/latex": [
       "\\begin{equation*}S₀\\end{equation*}"
      ],
      "text/plain": [
       "S₀"
      ]
     },
     "execution_count": 3,
     "metadata": {},
     "output_type": "execute_result"
    }
   ],
   "source": [
    "@vars S₀\n",
    "V₀ = simplify(1/(1 + r)*(p̃*S₀*u + q̃*S₀*d))"
   ]
  },
  {
   "cell_type": "markdown",
   "metadata": {},
   "source": [
    "So,\n",
    "\n",
    "$$V_0 = S_0$$"
   ]
  }
 ],
 "metadata": {
  "kernelspec": {
   "display_name": "Julia 1.1.0",
   "language": "julia",
   "name": "julia-1.1"
  },
  "language_info": {
   "file_extension": ".jl",
   "mimetype": "application/julia",
   "name": "julia",
   "version": "1.1.0"
  }
 },
 "nbformat": 4,
 "nbformat_minor": 2
}
