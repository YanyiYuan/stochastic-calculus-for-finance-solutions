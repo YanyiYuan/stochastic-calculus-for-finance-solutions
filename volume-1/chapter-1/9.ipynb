{
 "cells": [
  {
   "cell_type": "markdown",
   "metadata": {},
   "source": [
    "**Exercise 1.9. (Stochastic volatility, random interest rate).** Consider a binomial pricing model, but at each time $n \\ge 1$, the \"up factor\" $u_n(\\omega_1 \\omega_2 \\ldots \\omega_n)$, the \"down factor\" $d_n(\\omega_1 \\omega_2 \\ldots \\omega_n)$, and the interest rate $r_n(\\omega_1 \\omega_2 \\ldots \\omega_n)$ are allowed to depend on $n$ and on the first $n$ coin tosses $\\omega_1 \\omega_2 \\ldots \\omega_n$. The initial up factor $u_0$, the initial down factor $d_0$, and the initial interest rate $r_0$ are not random. More specifically, the stock price at time one is given by\n",
    "\n",
    "$$\n",
    "S_1 = \\begin{cases}\n",
    "u_0 S_0 \\; if \\; \\omega_1 = H, \\\\\n",
    "d_0 S_0 \\; if \\; \\omega_1 = T,\n",
    "\\end{cases}\n",
    "$$\n",
    "\n",
    "and, for $n \\ge 1$, the stock price at time $n + 1$ is given by\n",
    "\n",
    "$$\n",
    "S_{n + 1}(\\omega_1 \\omega_2 \\ldots \\omega_n \\omega_{n + 1}) = \\begin{cases}\n",
    "u_n(\\omega_1 \\omega_2 \\ldots \\omega_n) S_n(\\omega_1 \\omega_2 \\ldots \\omega_n) \\; if \\; \\omega_{n + 1} = H, \\\\\n",
    "d_n(\\omega_1 \\omega_2 \\ldots \\omega_n) S_n(\\omega_1 \\omega_2 \\ldots \\omega_n) \\; if \\; \\omega_{n + 1} = T.\n",
    "\\end{cases}\n",
    "$$\n",
    "\n",
    "One dollar invested in or borrowed from the money market at time zero grows to an investment or debt of $1 + r_0$ at time one, and, for $n \\ge 1$, one dollar invested in or borrowed from the money market at time $n$ grows to an investment or debt of $1 + r_n(\\omega_1 \\omega_2 \\ldots \\omega_n)$ at time $n + 1$. We assume that for each $n$ and for all $\\omega_1 \\omega_2 \\ldots \\omega_n$, the no-arbitrage condition\n",
    "\n",
    "$$0 < d_n(\\omega_1 \\omega_2 \\ldots \\omega_n) < 1 + r_n(\\omega_1 \\omega_2 \\ldots \\omega_n) < u_n(\\omega_1 \\omega_2 \\ldots \\omega_n)$$\n",
    "\n",
    "holds. We also assume that $0 < d_0 < 1 + r_0 < u_0$.\n",
    "\n",
    "(i) Let $N$ be a positive integer. In the model just described, provide an algorithm for determining the price at time zero for a derivative security that at time $N$ pays off a random amount $V_N$ depending on the result of the first $N$ coin tosses.\n",
    "\n",
    "---\n",
    "\n",
    "Looking at the proof of Threorem 1.2.2, we see that it is equally true whether $u$, $d$, and $r$ are constant or not.\n",
    "\n",
    "We define the Toss enum:"
   ]
  },
  {
   "cell_type": "code",
   "execution_count": 1,
   "metadata": {},
   "outputs": [],
   "source": [
    "@enum Toss H T"
   ]
  },
  {
   "cell_type": "markdown",
   "metadata": {},
   "source": [
    "Given\n",
    "\n",
    "$$\n",
    "\\begin{cases}\n",
    "u(\\omega_1 \\omega_2 \\ldots \\omega_i) = u_i \\\\\n",
    "d(\\omega_1 \\omega_2 \\ldots \\omega_i) = d_i \\\\\n",
    "r(\\omega_1 \\omega_2 \\ldots \\omega_i) = r_i\n",
    "\\end{cases}\n",
    "$$\n",
    "\n",
    "and the adapted equations from formulas (1.2.15)\n",
    "\n",
    "$$\\tilde p _i = \\frac{1 + r_i - d_i}{u_i - d_i}$$\n",
    "\n",
    "and\n",
    "\n",
    "$$\\tilde q _i = \\frac{u_i - 1 - r_i}{u_i - d_i},$$\n",
    "\n",
    "we define $\\tilde p (\\omega_1 \\omega_2 \\ldots \\omega_i) = \\tilde p _i$:"
   ]
  },
  {
   "cell_type": "code",
   "execution_count": 2,
   "metadata": {},
   "outputs": [],
   "source": [
    "p̃(ω::Toss...) = (1 + r(ω...) - d(ω...))/(u(ω...) - d(ω...));"
   ]
  },
  {
   "cell_type": "markdown",
   "metadata": {},
   "source": [
    "and $\\tilde q (\\omega_1 \\omega_2 \\ldots \\omega_i) = \\tilde q _i$:"
   ]
  },
  {
   "cell_type": "code",
   "execution_count": 3,
   "metadata": {},
   "outputs": [],
   "source": [
    "q̃(ω::Toss...) = (u(ω...) - 1 - r(ω...))/(u(ω...) - d(ω...));"
   ]
  },
  {
   "cell_type": "markdown",
   "metadata": {},
   "source": [
    "Given $S_0$, we define $S(\\omega_1 \\omega_2 \\ldots \\omega_i) = S_i$:"
   ]
  },
  {
   "cell_type": "code",
   "execution_count": 4,
   "metadata": {},
   "outputs": [],
   "source": [
    "function S(ω::Toss...)\n",
    "    i = length(ω)\n",
    "    if i == 0\n",
    "        return S₀\n",
    "    else\n",
    "        Sᵢ₋₁ = S(ω[1 : end - 1]...)\n",
    "        uᵢ₋₁ = u(ω[1 : end - 1]...)\n",
    "        dᵢ₋₁ = d(ω[1 : end - 1]...)\n",
    "        if ω[i] == H\n",
    "            return uᵢ₋₁*Sᵢ₋₁\n",
    "        else\n",
    "            return dᵢ₋₁*Sᵢ₋₁\n",
    "        end\n",
    "    end\n",
    "end;"
   ]
  },
  {
   "cell_type": "markdown",
   "metadata": {},
   "source": [
    "Given the derivative payoff at time $\\tau$ \n",
    "\n",
    "$$P(\\omega_1 \\omega_2 \\ldots \\omega_\\tau) = V_\\tau$$\n",
    "\n",
    "and the adapted formula (1.2.16)\n",
    "\n",
    "$$V_i = \\frac{1}{1 + r_i} (\\tilde p _i V_{i + 1}(H) + \\tilde q _i V_{i + 1}(T)),$$\n",
    "\n",
    "we define $V(\\omega_1 \\omega_2 \\ldots \\omega_i) = V_i$:"
   ]
  },
  {
   "cell_type": "code",
   "execution_count": 5,
   "metadata": {},
   "outputs": [],
   "source": [
    "function V(ω::Toss...)\n",
    "    i = length(ω)\n",
    "    if i == τ\n",
    "        # derivative payoff\n",
    "        return P(ω...)\n",
    "    elseif i < τ\n",
    "        # formula (1.2.16)\n",
    "        return 1/(1 + r(ω...))*(p̃(ω...)*V(ω..., H) + q̃(ω...)*V(ω..., T))\n",
    "    else\n",
    "        error(\"out of domain parameter\")\n",
    "    end\n",
    "end;"
   ]
  },
  {
   "cell_type": "markdown",
   "metadata": {},
   "source": [
    "---\n",
    "\n",
    "(ii) Provide a formula for the number of shares of stock that should be held at each time $n$ ($0 \\le n \\le N − 1$) by a portfolio that replicates the derivatives security $V_N$.\n",
    "\n",
    "---\n",
    "\n",
    "From the formula (1.2.17)\n",
    "\n",
    "$$\\Delta_i = \\frac{V_{i + 1}(H) - V_{i + 1}(T)}{S_{i + 1}(H) - S_{i + 1}(T)},$$\n",
    "\n",
    "we define $\\Delta(\\omega_1 \\omega_2 \\ldots \\omega_i) = \\Delta_i$:"
   ]
  },
  {
   "cell_type": "code",
   "execution_count": 6,
   "metadata": {},
   "outputs": [],
   "source": [
    "Δ(ω::Toss...) = (V(ω..., H) - V(ω..., T))/(S(ω..., H) - S(ω..., T));"
   ]
  },
  {
   "cell_type": "markdown",
   "metadata": {},
   "source": [
    "---\n",
    "\n",
    "(iii) Suppose the initial stock price is $S_0 = 80$, with each head the stock price increases by $10$, and with each tail the stock price decreases by $10$. In other words, $S_1(H) = 90$, $S_1(T) = 70$, $S_2(HH) = 100$, etc. Assume the interest rate is always zero. Consider a European call with strike price $80$, expiring at time five. What is the price of this call at time zero?\n",
    "\n",
    "---\n",
    "\n",
    "We define $S_0$:"
   ]
  },
  {
   "cell_type": "code",
   "execution_count": 7,
   "metadata": {},
   "outputs": [
    {
     "data": {
      "text/plain": [
       "80"
      ]
     },
     "execution_count": 7,
     "metadata": {},
     "output_type": "execute_result"
    }
   ],
   "source": [
    "S₀ = 80"
   ]
  },
  {
   "cell_type": "markdown",
   "metadata": {},
   "source": [
    "We want\n",
    "\n",
    "$$\n",
    "S_{n + 1}(\\omega_{n + 1}) = \\begin{cases}\n",
    "u_n S_n = S_n + 10\\; if \\; \\omega_{n + 1} = H \\\\\n",
    "d_n S_n = S_n - 10\\; if \\; \\omega_{n + 1} = T\n",
    "\\end{cases}.\n",
    "$$\n",
    "\n",
    "Solving for $u_n$ and $d_n$, we get\n",
    "\n",
    "$$\n",
    "\\begin{cases}\n",
    "u_n = 1 + \\frac{10}{S_n}\\; if \\; \\omega_{n + 1} = H \\\\\n",
    "d_n = 1 - \\frac{10}{S_n}\\; if \\; \\omega_{n + 1} = T\n",
    "\\end{cases}.\n",
    "$$\n",
    "\n",
    "Moreover\n",
    "\n",
    "$$r_n(\\omega_1 \\omega_2 \\ldots \\omega_n) = 0.$$\n",
    "\n",
    "So, we define\n",
    "\n",
    "$$\n",
    "\\begin{cases}\n",
    "u(\\omega_1 \\omega_2 \\ldots \\omega_i) = u_i \\\\\n",
    "d(\\omega_1 \\omega_2 \\ldots \\omega_i) = d_i \\\\\n",
    "r(\\omega_1 \\omega_2 \\ldots \\omega_i) = r_i\n",
    "\\end{cases}\n",
    "$$"
   ]
  },
  {
   "cell_type": "code",
   "execution_count": 8,
   "metadata": {},
   "outputs": [
    {
     "name": "stdout",
     "output_type": "stream",
     "text": [
      "S₁(H) = 90.0, S₁(T) = 70.0, S₂(HH) = 100.0"
     ]
    }
   ],
   "source": [
    "u(ω...) = 1 + 10/S(ω...)\n",
    "d(ω...) = 1 - 10/S(ω...)\n",
    "r(ω...) = 0\n",
    "print(\"S₁(H) = $(S(H)), S₁(T) = $(S(T)), S₂(HH) = $(S(H, H))\")"
   ]
  },
  {
   "cell_type": "markdown",
   "metadata": {},
   "source": [
    "Given the strike price $K = 80$, we define de payoff $P(\\omega_1 \\omega_2 \\ldots \\omega_\\tau) = V_\\tau$ of the European call:"
   ]
  },
  {
   "cell_type": "code",
   "execution_count": 9,
   "metadata": {},
   "outputs": [],
   "source": [
    "K = 80\n",
    "P(ω...) = max(0, S(ω...) - K);"
   ]
  },
  {
   "cell_type": "markdown",
   "metadata": {},
   "source": [
    "Defining the expiring time $\\tau = 5$:"
   ]
  },
  {
   "cell_type": "code",
   "execution_count": 10,
   "metadata": {},
   "outputs": [
    {
     "data": {
      "text/plain": [
       "5"
      ]
     },
     "execution_count": 10,
     "metadata": {},
     "output_type": "execute_result"
    }
   ],
   "source": [
    "τ = 5"
   ]
  },
  {
   "cell_type": "markdown",
   "metadata": {},
   "source": [
    "The price of this call at time zero is: "
   ]
  },
  {
   "cell_type": "code",
   "execution_count": 11,
   "metadata": {},
   "outputs": [
    {
     "data": {
      "text/plain": [
       "9.375000000000002"
      ]
     },
     "execution_count": 11,
     "metadata": {},
     "output_type": "execute_result"
    }
   ],
   "source": [
    "V₀ = V()"
   ]
  },
  {
   "cell_type": "markdown",
   "metadata": {},
   "source": [
    "---\n",
    "\n",
    "As we have seen in Section 1.3, some algorithms can be organized in more efficient manners.\n",
    "\n",
    "\n",
    "If we define\n",
    "\n",
    "$$\n",
    "\\eta(\\omega) = \\begin{cases}\n",
    "10 \\; if \\; \\omega = H \\\\\n",
    "-10 \\; if \\; \\omega = T\n",
    "\\end{cases},\n",
    "$$\n",
    "\n",
    "it is easy to see that the following expression is true:\n",
    "\n",
    "$$S_i(\\omega_1 \\omega_2 \\ldots \\omega_i) = S_0 + \\sum_{n = 1}^i \\eta(\\omega_i).$$\n",
    "\n",
    "The sum of real numbers is commutative. Therefore we notice that the value of $S_i(\\omega_1 \\omega_2 \\ldots \\omega_i)$ depends only on the quantity of $H$ and $T$ in the sequence $\\omega_1 \\omega_2 \\ldots \\omega_i$ (e.g: $S_2(HT) = S_2(TH)$, $S_3(TTH) = S_3(THT) = S_3(HTT)$ etc).\n",
    "\n",
    "Moreover, since the European call payoff $V_\\tau(\\omega_1 \\omega_2 \\ldots \\omega_\\tau)$ at time $\\tau$\n",
    "\n",
    "$$V_\\tau(\\omega_1 \\omega_2 \\ldots \\omega_\\tau) = (S_\\tau(\\omega_1 \\omega_2 \\ldots \\omega_\\tau) - K)^+$$\n",
    "\n",
    "depends only on $S_\\tau(\\omega_1 \\omega_2 \\ldots \\omega_\\tau)$, we infer that it also depends only on the quantity of $H$ and $T$ in the sequence $\\omega_1 \\omega_2 \\ldots \\omega_\\tau$.\n",
    "\n",
    "Using the same logic, given that $\\tilde p _i(\\omega_1 \\omega_2 \\ldots \\omega_i)$ and $\\tilde q _i(\\omega_1 \\omega_2 \\ldots \\omega_i)$ depend only on $S_i(\\omega_1 \\omega_2 \\ldots \\omega_i)$ and that $r_i(\\omega_1 \\omega_2 \\ldots \\omega_i) = 0$ is constant, the European call price $V_i(\\omega_1 \\omega_2 \\ldots \\omega_i)$ at time $i$, given by the formula (1.2.16)\n",
    "\n",
    "$$V_i(\\omega_1 \\omega_2 \\ldots \\omega_i) = \\frac{1}{1 + r_i(\\omega_1 \\omega_2 \\ldots \\omega_i)} (\\tilde p _i(\\omega_1 \\omega_2 \\ldots \\omega_i) V_{i + 1}(\\omega_1 \\omega_2 \\ldots \\omega_i H) + \\tilde q _i(\\omega_1 \\omega_2 \\ldots \\omega_i) V_{i + 1}(\\omega_1 \\omega_2 \\ldots \\omega_i T)),$$\n",
    "\n",
    "depends only on the quantity of $H$ and $T$ in the sequence $\\omega_1 \\omega_2 \\ldots \\omega_i$.\n",
    "\n",
    "We can improve our implementation taking this into consideration as follows:\n",
    "\n",
    "We define the function $\\phi(\\omega_1 \\omega_2 \\ldots \\omega_i)$ that returns the quantity of $T$ and $H$ in a sequence $\\omega_1 \\omega_2 \\ldots \\omega_i$:"
   ]
  },
  {
   "cell_type": "code",
   "execution_count": 12,
   "metadata": {},
   "outputs": [],
   "source": [
    "function ϕ(ω::Toss...)\n",
    "    h = t = 0\n",
    "    for ωᵢ ∈ ω\n",
    "        if ωᵢ == H\n",
    "            h += 1\n",
    "        else\n",
    "            t += 1\n",
    "        end\n",
    "    end\n",
    "    return (H = h, T = t)\n",
    "end;"
   ]
  },
  {
   "cell_type": "markdown",
   "metadata": {},
   "source": [
    "We can [memoize](https://en.wikipedia.org/wiki/Memoization) in a dictionary `D` the results of $V_i(\\omega_1 \\omega_2 \\ldots \\omega_i)$ by the number of $H$ and $T$ in the sequence $\\omega_1 \\omega_2 \\ldots \\omega_i$.\n",
    "\n",
    "So we define $\\upsilon(\\omega_1 \\omega_2 \\ldots \\omega_i) = V_i$:"
   ]
  },
  {
   "cell_type": "code",
   "execution_count": 13,
   "metadata": {},
   "outputs": [],
   "source": [
    "D = Dict()\n",
    "function υ(ω::Toss...)\n",
    "    return get!(D, ϕ(ω...)) do\n",
    "        i = length(ω)\n",
    "        if i == τ\n",
    "            # derivative payoff\n",
    "            return P(ω...)\n",
    "        elseif i < τ\n",
    "            # formula (1.2.16)\n",
    "            return 1/(1 + r(ω...))*(p̃(ω...)*υ(ω..., H) + q̃(ω...)*υ(ω..., T))\n",
    "        else\n",
    "            error(\"out of domain parameter\")\n",
    "        end\n",
    "    end\n",
    "end;"
   ]
  },
  {
   "cell_type": "markdown",
   "metadata": {},
   "source": [
    "Let's check the performance of the naive implementation computing $V_0$ $L = 500$ times:"
   ]
  },
  {
   "cell_type": "code",
   "execution_count": 14,
   "metadata": {},
   "outputs": [
    {
     "name": "stdout",
     "output_type": "stream",
     "text": [
      "  5.983512 seconds (46.92 M allocations: 1.079 GiB, 1.86% gc time)\n"
     ]
    },
    {
     "data": {
      "text/plain": [
       "9.375000000000002"
      ]
     },
     "execution_count": 14,
     "metadata": {},
     "output_type": "execute_result"
    }
   ],
   "source": [
    "L = 500\n",
    "@time for j = 1:L\n",
    "    V₀ = V()\n",
    "end\n",
    "V₀"
   ]
  },
  {
   "cell_type": "markdown",
   "metadata": {},
   "source": [
    "Now lets check the improved implementation $\\upsilon(\\omega_1 \\omega_2 \\ldots \\omega_i)$"
   ]
  },
  {
   "cell_type": "code",
   "execution_count": 15,
   "metadata": {},
   "outputs": [
    {
     "name": "stdout",
     "output_type": "stream",
     "text": [
      "  0.467227 seconds (639.55 k allocations: 33.050 MiB, 2.41% gc time)\n"
     ]
    },
    {
     "data": {
      "text/plain": [
       "9.375000000000002"
      ]
     },
     "execution_count": 15,
     "metadata": {},
     "output_type": "execute_result"
    }
   ],
   "source": [
    "# redefine V with the improved implementation υ\n",
    "V(ω::Toss...) = υ(ω...)\n",
    "@time for j = 1:L\n",
    "    # reset the dictionary for a fair comparison\n",
    "    D = Dict()\n",
    "    V₀ = V()\n",
    "end\n",
    "V₀"
   ]
  }
 ],
 "metadata": {
  "kernelspec": {
   "display_name": "Julia 1.1.0",
   "language": "julia",
   "name": "julia-1.1"
  },
  "language_info": {
   "file_extension": ".jl",
   "mimetype": "application/julia",
   "name": "julia",
   "version": "1.1.0"
  }
 },
 "nbformat": 4,
 "nbformat_minor": 2
}
