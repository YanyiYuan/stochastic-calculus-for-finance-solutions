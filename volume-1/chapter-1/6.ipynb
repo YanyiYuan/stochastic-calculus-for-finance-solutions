{
 "cells": [
  {
   "cell_type": "markdown",
   "metadata": {},
   "source": [
    "**Exercise 1.6. (Hedging a long position-one period).** Consider a bank that has a long position in the European call written on the stock price in Figure 1.1.2. The call expires at time one and has strike price $K = 5$. In Section 1.1, we determined the time-zero price of this call to be $V_0 = 1.20$. At time zero, the bank owns this option, which ties up capital $V_0 = 1.20$. The bank wants to earn the interest rate 25% on this capital until time one (i.e., without investing any more money, and regardless of how the coin tossing turns out, the bank wants to have\n",
    "\n",
    "$$\\frac{5}{4} \\cdot 1.20 = 1.50$$\n",
    "\n",
    "at time one, after collecting the payoff from the option (if any) at time one). Specify how the bank’s trader should invest in the stock and money markets to accomplish this.\n",
    "\n",
    "---\n",
    "\n",
    "The excercise asks us how to invest in the stock and money market so that the final portfolio value is:\n",
    "\n",
    "$$\\frac{5}{4} \\cdot 1.20 = (1 + r) V_0 = 1.50$$\n",
    "\n",
    "---\n",
    "\n",
    "As shown in Section 1.1, $V_0 = 1.20$ is the the no-arbitrage price of the derivative security.\n",
    "\n",
    "In this case, Theorem 1.2.2 holds. Given the formula (1.2.18)\n",
    "\n",
    "$$X_N(\\omega_1 \\omega_2 \\ldots \\omega_N) = V_N(\\omega_1 \\omega_2 \\ldots \\omega_N),$$\n",
    "\n",
    "the payoff $V_1$ of this derivative security at **time one** can be replicated by the corresponding portfolio given by the *wealth equation* formula (1.2.14):"
   ]
  },
  {
   "cell_type": "code",
   "execution_count": 1,
   "metadata": {},
   "outputs": [
    {
     "data": {
      "text/latex": [
       "\\begin{equation*}S₁ Δ₀ + \\left(r + 1\\right) \\left(- S₀ Δ₀ + V₀\\right)\\end{equation*}"
      ],
      "text/plain": [
       "S₁⋅Δ₀ + (r + 1)⋅(-S₀⋅Δ₀ + V₀)"
      ]
     },
     "execution_count": 1,
     "metadata": {},
     "output_type": "execute_result"
    }
   ],
   "source": [
    "using SymPy\n",
    "@vars Δ₀ S₁ r V₀ S₀\n",
    "V₁ = Δ₀*S₁ + (1 + r)*(V₀ - Δ₀*S₀)"
   ]
  },
  {
   "cell_type": "markdown",
   "metadata": {},
   "source": [
    "which is equivalent to\n",
    "\n",
    "$$V_1 = \\Delta_0 S_1 - (1 + r) \\Delta_0 S_0 + (1 + r) V_0$$\n",
    "\n",
    "The expression hints that we should cancel\n",
    "\n",
    "$$-(1 + r) \\Delta_0 S_0$$\n",
    "\n",
    "and\n",
    "\n",
    "$$\\Delta_0 S_1,$$\n",
    "\n",
    "to get the portfolio\n",
    "\n",
    "$$\\zeta_1 = (1 + r) V_0.$$\n",
    "\n",
    "To accomplish that we should:\n",
    "\n",
    "* short $\\Delta_0 S_0$ in stocks and invest the income into the money market at **time zero**; and\n",
    "* use the money market account to cover the short position $\\Delta_0 S_1$ at **time one**.\n",
    "\n",
    "At **time one** we have the total portfolio value:"
   ]
  },
  {
   "cell_type": "code",
   "execution_count": 2,
   "metadata": {},
   "outputs": [
    {
     "data": {
      "text/latex": [
       "\\begin{equation*}V₀ \\left(r + 1\\right)\\end{equation*}"
      ],
      "text/plain": [
       "V₀⋅(r + 1)"
      ]
     },
     "execution_count": 2,
     "metadata": {},
     "output_type": "execute_result"
    }
   ],
   "source": [
    "ζ = simplify(V₁ - Δ₀*S₁ + (1 + r)*Δ₀*S₀)"
   ]
  },
  {
   "cell_type": "markdown",
   "metadata": {},
   "source": [
    "$\\Delta_0 = \\frac{1}{2}$, as calculated in section 1.1 or by the formula (1.1.9):\n",
    "\n",
    "$$\\Delta_0 = \\frac{V_1(H) - V_1(T)}{S_1(H) - S_1(T)}.$$"
   ]
  },
  {
   "cell_type": "code",
   "execution_count": 3,
   "metadata": {},
   "outputs": [
    {
     "data": {
      "text/plain": [
       "0.5"
      ]
     },
     "execution_count": 3,
     "metadata": {},
     "output_type": "execute_result"
    }
   ],
   "source": [
    "k = 5\n",
    "u = 2\n",
    "d = 1/2\n",
    "S₀ = 4\n",
    "S₁H = S₀*u\n",
    "S₁T = S₀*d\n",
    "V₁H = max(0, S₁H - k)\n",
    "V₁T = max(0, S₁T - k)\n",
    "# formula (1.2.17)\n",
    "Δ₀ = (V₁H - V₁T)/(S₁H - S₁T)"
   ]
  }
 ],
 "metadata": {
  "kernelspec": {
   "display_name": "Julia 1.0.2",
   "language": "julia",
   "name": "julia-1.0"
  },
  "language_info": {
   "file_extension": ".jl",
   "mimetype": "application/julia",
   "name": "julia",
   "version": "1.0.3"
  }
 },
 "nbformat": 4,
 "nbformat_minor": 2
}
