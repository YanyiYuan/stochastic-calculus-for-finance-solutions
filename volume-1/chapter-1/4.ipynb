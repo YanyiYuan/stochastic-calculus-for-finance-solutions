{
 "cells": [
  {
   "cell_type": "markdown",
   "metadata": {},
   "source": [
    "**Exercise 1.4.** In the proof of Theorem 1.2.2, show under the induction hypothesis that\n",
    "\n",
    "$$X_{n+1}(\\omega_1 \\omega_2 \\ldots \\omega_n T) = V_{n+1}(\\omega_1 \\omega_2 \\ldots \\omega_n T).$$\n",
    "\n",
    "---\n",
    "\n",
    "Changing the notation, the question asks us to prove that:\n",
    "\n",
    "$$X_{i+1}(T) = V_{i+1}(T).$$\n",
    "\n",
    "---\n",
    "\n",
    "From the formula (1.2.17)\n",
    "\n",
    "$$\\Delta_i = \\frac{V_{i + 1}(H) - V_{i + 1}(T)}{S_{i + 1}(H) - S_{i + 1}(T)}$$\n",
    "\n",
    "and\n",
    "\n",
    "$$\n",
    "\\begin{cases}\n",
    "S_{i + 1}(H) = S_i u \\\\\n",
    "S_{i + 1}(T) = S_i d\n",
    "\\end{cases},\n",
    "$$\n",
    "\n",
    "we define $\\Delta_i$:"
   ]
  },
  {
   "cell_type": "code",
   "execution_count": 1,
   "metadata": {},
   "outputs": [
    {
     "data": {
      "text/latex": [
       "\\begin{equation*}\\frac{\\operatorname{Vᵢ₊₁}{\\left (H \\right )} - \\operatorname{Vᵢ₊₁}{\\left (T \\right )}}{Sᵢ \\left(- d + u\\right)}\\end{equation*}"
      ],
      "text/plain": [
       "Vᵢ₊₁(H) - Vᵢ₊₁(T)\n",
       "─────────────────\n",
       "   Sᵢ⋅(-d + u)   "
      ]
     },
     "execution_count": 1,
     "metadata": {},
     "output_type": "execute_result"
    }
   ],
   "source": [
    "using SymPy\n",
    "@vars H T Sᵢ u d\n",
    "Vᵢ₊₁ = SymFunction(\"Vᵢ₊₁\")\n",
    "Δᵢ = (Vᵢ₊₁(H) - Vᵢ₊₁(T))/(Sᵢ*(u - d))"
   ]
  },
  {
   "cell_type": "markdown",
   "metadata": {},
   "source": [
    "From formula (1.2.15), we define $\\tilde p$:"
   ]
  },
  {
   "cell_type": "code",
   "execution_count": 2,
   "metadata": {},
   "outputs": [
    {
     "data": {
      "text/latex": [
       "\\begin{equation*}\\frac{- d + r + 1}{- d + u}\\end{equation*}"
      ],
      "text/plain": [
       "-d + r + 1\n",
       "──────────\n",
       "  -d + u  "
      ]
     },
     "execution_count": 2,
     "metadata": {},
     "output_type": "execute_result"
    }
   ],
   "source": [
    "using SymPy\n",
    "@vars r\n",
    "p̃ = (1 + r - d)/(u - d)"
   ]
  },
  {
   "cell_type": "markdown",
   "metadata": {},
   "source": [
    "and $\\tilde q$:"
   ]
  },
  {
   "cell_type": "code",
   "execution_count": 3,
   "metadata": {},
   "outputs": [
    {
     "data": {
      "text/latex": [
       "\\begin{equation*}\\frac{- r + u - 1}{- d + u}\\end{equation*}"
      ],
      "text/plain": [
       "-r + u - 1\n",
       "──────────\n",
       "  -d + u  "
      ]
     },
     "execution_count": 3,
     "metadata": {},
     "output_type": "execute_result"
    }
   ],
   "source": [
    "q̃ = (u - 1 - r)/(u - d)"
   ]
  },
  {
   "cell_type": "markdown",
   "metadata": {},
   "source": [
    "From formula (1.2.16), we define $V_i$:"
   ]
  },
  {
   "cell_type": "code",
   "execution_count": 4,
   "metadata": {},
   "outputs": [
    {
     "data": {
      "text/latex": [
       "\\begin{equation*}\\frac{- \\left(- d + r + 1\\right) \\operatorname{Vᵢ₊₁}{\\left (H \\right )} + \\left(r - u + 1\\right) \\operatorname{Vᵢ₊₁}{\\left (T \\right )}}{\\left(d - u\\right) \\left(r + 1\\right)}\\end{equation*}"
      ],
      "text/plain": [
       "-(-d + r + 1)⋅Vᵢ₊₁(H) + (r - u + 1)⋅Vᵢ₊₁(T)\n",
       "───────────────────────────────────────────\n",
       "              (d - u)⋅(r + 1)              "
      ]
     },
     "execution_count": 4,
     "metadata": {},
     "output_type": "execute_result"
    }
   ],
   "source": [
    "Vᵢ = simplify(1/(r + 1)*(p̃*Vᵢ₊₁(H) + q̃*Vᵢ₊₁(T)))"
   ]
  },
  {
   "cell_type": "markdown",
   "metadata": {},
   "source": [
    "Given the *wealth equation* formula (1.2.14)\n",
    "\n",
    "$$X_{i + 1} = \\Delta_i S_{i + 1} + (1 + r)(X_i - \\Delta_i S_i),$$\n",
    "\n",
    "the formula (1.2.18)\n",
    "\n",
    "$$X_i = V_i$$\n",
    "\n",
    "and that\n",
    "\n",
    "$$S_{i + 1}(T) = S_{i} d,$$\n",
    "\n",
    "we define $X_{i + 1}(T)$:"
   ]
  },
  {
   "cell_type": "code",
   "execution_count": 5,
   "metadata": {},
   "outputs": [
    {
     "data": {
      "text/latex": [
       "\\begin{equation*}\\operatorname{Vᵢ₊₁}{\\left (T \\right )}\\end{equation*}"
      ],
      "text/plain": [
       "Vᵢ₊₁(T)"
      ]
     },
     "execution_count": 5,
     "metadata": {},
     "output_type": "execute_result"
    }
   ],
   "source": [
    "Xᵢ₊₁T = simplify(Δᵢ*Sᵢ*d + (1 + r)*(Vᵢ - Δᵢ*Sᵢ))"
   ]
  },
  {
   "cell_type": "markdown",
   "metadata": {},
   "source": [
    "So,\n",
    "\n",
    "$$X_{i + 1}(T) = V_{i + 1}(T)$$\n",
    "\n",
    "$$\\square$$"
   ]
  }
 ],
 "metadata": {
  "kernelspec": {
   "display_name": "Julia 1.0.2",
   "language": "julia",
   "name": "julia-1.0"
  },
  "language_info": {
   "file_extension": ".jl",
   "mimetype": "application/julia",
   "name": "julia",
   "version": "1.0.3"
  }
 },
 "nbformat": 4,
 "nbformat_minor": 2
}
