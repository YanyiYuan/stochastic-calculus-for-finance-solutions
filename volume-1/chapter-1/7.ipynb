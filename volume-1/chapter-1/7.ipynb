{
 "cells": [
  {
   "cell_type": "markdown",
   "metadata": {},
   "source": [
    "**Exercise 1.7. (Hedging a long position-multiple periods).** Consider a bank that has a long position in the lookback option of Example 1.2.4. The bank intends to hold this option until expiration and receive the payoff $V_3$. At time zero, the bank has capital $V_0 = 1.376$ tied up in the option and wants to earn the interest rate of $25\\%$ on this capital until time three (i.e., without investing any more money, and regardless of how the coin tossing turns out, the bank wants to have\n",
    "\n",
    "$$\\left(\\frac{5}{4}\\right)^3 \\cdot 1.376 = 2.6875$$\n",
    "\n",
    "at time three, after collecting the payoff from the lookback option at time three). Specify how the bank’s trader should invest in the stock and the money market account to accomplish this.\n",
    "\n",
    "---\n",
    "\n",
    "The excercise asks us how to invest in the stock and money market so that the final portfolio value is:\n",
    "\n",
    "$$\\left(\\frac{5}{4}\\right)^3 \\cdot 1.376 = (1 + r)^3 V_0 = 2.6875$$\n",
    "\n",
    "---\n",
    "\n",
    "As shown in Example 1.2.4, $V_0 = 1.376$ is the the no-arbitrage price of the derivative security at **time zero**.\n",
    "\n",
    "In this case, Theorem 1.2.2 holds. Given the formula (1.2.18)\n",
    "\n",
    "$$X_N(\\omega_1 \\omega_2 \\ldots \\omega_N) = V_N(\\omega_1 \\omega_2 \\ldots \\omega_N),$$\n",
    "\n",
    "the payoff $V_1$ of this derivative security at **time one** can be replicated by the corresponding portfolio given by the *wealth equation* formula (1.2.14):"
   ]
  },
  {
   "cell_type": "code",
   "execution_count": 1,
   "metadata": {},
   "outputs": [
    {
     "data": {
      "text/latex": [
       "\\begin{equation*}S₁ Δ₀ + \\left(r + 1\\right) \\left(- S₀ Δ₀ + V₀\\right)\\end{equation*}"
      ],
      "text/plain": [
       "S₁⋅Δ₀ + (r + 1)⋅(-S₀⋅Δ₀ + V₀)"
      ]
     },
     "execution_count": 1,
     "metadata": {},
     "output_type": "execute_result"
    }
   ],
   "source": [
    "using SymPy\n",
    "@vars Δ₀ S₁ r V₀ S₀\n",
    "V₁ = Δ₀*S₁ + (1 + r)*(V₀ - Δ₀*S₀)"
   ]
  },
  {
   "cell_type": "markdown",
   "metadata": {},
   "source": [
    "which is equivalent to\n",
    "\n",
    "$$V_1 = \\Delta_0 S_1 + (1 + r) V_0 - (1 + r) \\Delta_0 S_0.$$\n",
    "\n",
    "The expression hints that we should cancel\n",
    "\n",
    "$$-(1 + r) \\Delta_0 S_0$$\n",
    "\n",
    "and\n",
    "\n",
    "$$\\Delta_0 S_1,$$\n",
    "\n",
    "to get the portfolio\n",
    "\n",
    "$$\\zeta_1 = (1 + r) V_0.$$\n",
    "\n",
    "To accomplish that, we should:\n",
    "\n",
    "* short $\\Delta_0 S_0$ in stocks and invest the income into the money market at **time zero**; and\n",
    "* use the money market account to cover the short position $\\Delta_0 S_1$ at **time one**.\n",
    "\n",
    "At **time one** we have the total portfolio value:"
   ]
  },
  {
   "cell_type": "code",
   "execution_count": 2,
   "metadata": {},
   "outputs": [
    {
     "data": {
      "text/latex": [
       "\\begin{equation*}V₀ \\left(r + 1\\right)\\end{equation*}"
      ],
      "text/plain": [
       "V₀⋅(r + 1)"
      ]
     },
     "execution_count": 2,
     "metadata": {},
     "output_type": "execute_result"
    }
   ],
   "source": [
    "ζ₁ = simplify(V₁ + (1 + r)*Δ₀*S₀ - Δ₀*S₁)"
   ]
  },
  {
   "cell_type": "markdown",
   "metadata": {},
   "source": [
    "Let's see the replicated payoff of the derivative security at **time two**:"
   ]
  },
  {
   "cell_type": "code",
   "execution_count": 3,
   "metadata": {},
   "outputs": [
    {
     "data": {
      "text/latex": [
       "\\begin{equation*}S₂ Δ₁ + \\left(r + 1\\right) \\left(S₁ Δ₀ - S₁ Δ₁ + \\left(r + 1\\right) \\left(- S₀ Δ₀ + V₀\\right)\\right)\\end{equation*}"
      ],
      "text/plain": [
       "S₂⋅Δ₁ + (r + 1)⋅(S₁⋅Δ₀ - S₁⋅Δ₁ + (r + 1)⋅(-S₀⋅Δ₀ + V₀))"
      ]
     },
     "execution_count": 3,
     "metadata": {},
     "output_type": "execute_result"
    }
   ],
   "source": [
    "@vars Δ₁ S₂\n",
    "V₂ = Δ₁*S₂ + (1 + r)*(V₁ - Δ₁*S₁)"
   ]
  },
  {
   "cell_type": "markdown",
   "metadata": {},
   "source": [
    "It is equivalent to\n",
    "\n",
    "$$V_2 = \\Delta_1 S_2 + (1 + r) [-\\Delta_1 S_1 - (1 + r) \\Delta_0 S_0 + \\Delta_0 S_1] + (1 + r)^2 V_0.$$\n",
    "\n",
    "The expression hints that we should cancel\n",
    "\n",
    "$$(1 + r) [-\\Delta_1 S_1 - (1 + r) \\Delta_0 S_0 + \\Delta_0 S_1]$$\n",
    "\n",
    "and\n",
    "\n",
    "$$\\Delta_1 S_2$$\n",
    "\n",
    "to get the portfolio\n",
    "\n",
    "$$\\zeta_2 = (1 + r)^2 V_0.$$\n",
    "\n",
    "To accomplish that, we should:\n",
    "\n",
    "* short $\\Delta_1 S_1$ in stocks and invest the income into the money market and reinvest what is already in the money market account at **time one**; and\n",
    "* use the money market account to cover the short position $\\Delta_1 S_2$ at **time two**.\n",
    "\n",
    "At **time two** we have the total portfolio value:"
   ]
  },
  {
   "cell_type": "code",
   "execution_count": 4,
   "metadata": {},
   "outputs": [
    {
     "data": {
      "text/latex": [
       "\\begin{equation*}V₀ \\left(r + 1\\right)^{2}\\end{equation*}"
      ],
      "text/plain": [
       "          2\n",
       "V₀⋅(r + 1) "
      ]
     },
     "execution_count": 4,
     "metadata": {},
     "output_type": "execute_result"
    }
   ],
   "source": [
    "ζ₂ = factor(V₂ + (1 + r)*(Δ₁*S₁ + (1 + r)Δ₀*S₀ - Δ₀*S₁) - Δ₁*S₂)"
   ]
  },
  {
   "cell_type": "markdown",
   "metadata": {},
   "source": [
    "The payoff of this strategy can be formulated by:\n",
    "\n",
    "$$\\rho_0 = 0.$$\n",
    "\n",
    "and\n",
    "\n",
    "$$\\rho_{i + 1} = (1 + r)(\\Delta_i S_i + \\rho_i) - \\Delta_i S_{i + 1}$$\n",
    "\n",
    "It seems that with this strategy we can obtain the total portfolio value at time $i + 1$:\n",
    "\n",
    "$$\\zeta_{i + 1} = V_{i + 1} + \\rho_{i + 1} = (1 + r)^{i + 1} V_0,$$\n",
    "\n",
    "from which it follows that\n",
    "\n",
    "$$\\rho_{i + 1} = (1 + r)^{i + 1} V_0 - V_{i + 1}.$$\n",
    "\n",
    "We prove this relationship by induction.\n",
    "\n",
    "For the base case $i = 0$, we must prove that:\n",
    "\n",
    "$$\\rho_1 = (1 + r)(\\Delta_0 S_0 + \\rho_0) - \\Delta_0 S_1 = (1 + r) V_0 - V_1.$$\n",
    "\n",
    "Since $\\rho_0 = 0$, we define $\\rho_1$:"
   ]
  },
  {
   "cell_type": "code",
   "execution_count": 5,
   "metadata": {},
   "outputs": [
    {
     "data": {
      "text/latex": [
       "\\begin{equation*}S₀ Δ₀ \\left(r + 1\\right) - S₁ Δ₀\\end{equation*}"
      ],
      "text/plain": [
       "S₀⋅Δ₀⋅(r + 1) - S₁⋅Δ₀"
      ]
     },
     "execution_count": 5,
     "metadata": {},
     "output_type": "execute_result"
    }
   ],
   "source": [
    "ρ₁ = (1 + r)*(Δ₀*S₀ + 0) - Δ₀*S₁"
   ]
  },
  {
   "cell_type": "markdown",
   "metadata": {},
   "source": [
    "So we check:"
   ]
  },
  {
   "cell_type": "code",
   "execution_count": 6,
   "metadata": {},
   "outputs": [
    {
     "data": {
      "text/plain": [
       "true"
      ]
     },
     "execution_count": 6,
     "metadata": {},
     "output_type": "execute_result"
    }
   ],
   "source": [
    "expand(ρ₁) == expand((1 + r)*V₀ - V₁)"
   ]
  },
  {
   "cell_type": "markdown",
   "metadata": {},
   "source": [
    "which proves the base case.\n",
    "\n",
    "For the inductive step, we assume that\n",
    "\n",
    "$$\\rho_i = (1 + r)^i V_0 - V_i.$$\n",
    "\n",
    "Using this assumption, and the formulas for $\\rho_{i + 1}$ and $V_{i + 1}$ we get the following system of linear equations:"
   ]
  },
  {
   "cell_type": "code",
   "execution_count": 7,
   "metadata": {},
   "outputs": [
    {
     "data": {
      "text/latex": [
       "\\[ \\left[ \\begin{array}{r}ρᵢ = - Vᵢ + V₀ \\left(r + 1\\right)^{i}\\\\ρᵢ₊₁ = - Sᵢ₊₁ Δᵢ + \\left(r + 1\\right) \\left(Sᵢ Δᵢ + ρᵢ\\right)\\\\Vᵢ₊₁ = Sᵢ₊₁ Δᵢ + \\left(r + 1\\right) \\left(- Sᵢ Δᵢ + Vᵢ\\right)\\end{array} \\right] \\]"
      ],
      "text/plain": [
       "3-element Array{Sym,1}:\n",
       "                Eq(ρᵢ, -Vᵢ + V₀*(r + 1)^i)\n",
       " Eq(ρᵢ₊₁, -Sᵢ₊₁*Δᵢ + (r + 1)*(Sᵢ*Δᵢ + ρᵢ))\n",
       " Eq(Vᵢ₊₁, Sᵢ₊₁*Δᵢ + (r + 1)*(-Sᵢ*Δᵢ + Vᵢ))"
      ]
     },
     "execution_count": 7,
     "metadata": {},
     "output_type": "execute_result"
    }
   ],
   "source": [
    "@vars i ρᵢ ρᵢ₊₁ Vᵢ Vᵢ₊₁ Δᵢ Sᵢ Sᵢ₊₁ k\n",
    "Pᵢ₊₁ = [\n",
    "    ρᵢ ⩵ ((1 + r)^i)*V₀ - Vᵢ,\n",
    "    ρᵢ₊₁ ⩵ (1 + r)*(Δᵢ*Sᵢ + ρᵢ) - Δᵢ*Sᵢ₊₁,\n",
    "    Vᵢ₊₁ ⩵ Δᵢ*Sᵢ₊₁ + (1 + r)*(Vᵢ - Δᵢ*Sᵢ)\n",
    "]"
   ]
  },
  {
   "cell_type": "markdown",
   "metadata": {},
   "source": [
    "We solve for $\\rho_i$, $\\rho_{i + 1}$ and $\\Delta_i$ (we could have chosen either $\\Delta_i$, $S_i$ or $S_{i + 1}$, since these terms will be cancelled out of the solution of $\\rho_{i + 1}$)"
   ]
  },
  {
   "cell_type": "code",
   "execution_count": 8,
   "metadata": {},
   "outputs": [
    {
     "data": {
      "text/latex": [
       "\\begin{equation*}\\begin{cases}Sᵢ & \\text{=>} &\\frac{Sᵢ₊₁ Δᵢ + Vᵢ r + Vᵢ - Vᵢ₊₁}{Δᵢ \\left(r + 1\\right)}\\\\ρᵢ & \\text{=>} &- Vᵢ + V₀ \\left(r + 1\\right)^{i}\\\\ρᵢ₊₁ & \\text{=>} &- Vᵢ₊₁ + V₀ r \\left(r + 1\\right)^{i} + V₀ \\left(r + 1\\right)^{i}\\\\\\end{cases}\\end{equation*}"
      ],
      "text/plain": [
       "Dict{Sym,Sym} with 3 entries:\n",
       "  Sᵢ   => (Sᵢ₊₁*Δᵢ + Vᵢ*r + Vᵢ - Vᵢ₊₁)/(Δᵢ*(r + 1))\n",
       "  ρᵢ   => -Vᵢ + V₀*(r + 1)^i\n",
       "  ρᵢ₊₁ => -Vᵢ₊₁ + V₀*r*(r + 1)^i + V₀*(r + 1)^i"
      ]
     },
     "execution_count": 8,
     "metadata": {},
     "output_type": "execute_result"
    }
   ],
   "source": [
    "solution = solve(Pᵢ₊₁, [ρᵢ₊₁, ρᵢ, Sᵢ])"
   ]
  },
  {
   "cell_type": "markdown",
   "metadata": {},
   "source": [
    "We do some algebraic manipulations to get:"
   ]
  },
  {
   "cell_type": "code",
   "execution_count": 9,
   "metadata": {},
   "outputs": [
    {
     "data": {
      "text/latex": [
       "\\begin{equation*}- Vᵢ₊₁ + V₀ \\left(r + 1\\right)^{i + 1}\\end{equation*}"
      ],
      "text/plain": [
       "                  i + 1\n",
       "-Vᵢ₊₁ + V₀⋅(r + 1)     "
      ]
     },
     "execution_count": 9,
     "metadata": {},
     "output_type": "execute_result"
    }
   ],
   "source": [
    "ρᵢ₊₁ = simplify(solution[ρᵢ₊₁] + Vᵢ₊₁) - Vᵢ₊₁"
   ]
  },
  {
   "cell_type": "markdown",
   "metadata": {},
   "source": [
    "So we proved that if $\\rho_n$ is true, then $\\rho_{n + 1}$ is also true. That concludes the proof.\n",
    "\n",
    "$$\\square$$\n",
    "\n",
    "We can check this result numerically as follows:\n",
    "\n",
    "As given by Example 1.2.4 and the excercise, we define $S_0$, $r$, $u$, $d$ and $V_0$:"
   ]
  },
  {
   "cell_type": "code",
   "execution_count": 10,
   "metadata": {},
   "outputs": [],
   "source": [
    "S₀ = 4\n",
    "r = 1/4\n",
    "u = 2\n",
    "d = 1/2\n",
    "p̃ = q̃ = 1/2\n",
    "V₀ = 1.376;"
   ]
  },
  {
   "cell_type": "markdown",
   "metadata": {},
   "source": [
    "We define the Toss enum:"
   ]
  },
  {
   "cell_type": "code",
   "execution_count": 11,
   "metadata": {},
   "outputs": [],
   "source": [
    "@enum Toss H T"
   ]
  },
  {
   "cell_type": "markdown",
   "metadata": {},
   "source": [
    "Given $S_0$, $u$ and $d$ we define $S(\\omega_1 \\omega_2 \\ldots \\omega_i) = S_i$:"
   ]
  },
  {
   "cell_type": "code",
   "execution_count": 12,
   "metadata": {},
   "outputs": [],
   "source": [
    "function S(ω::Toss...)\n",
    "    i = length(ω)\n",
    "    if i == 0\n",
    "        return S₀\n",
    "    else\n",
    "        Sᵢ₋₁ = S(ω[1 : end - 1]...)\n",
    "        if ω[i] == H\n",
    "            return u*Sᵢ₋₁\n",
    "        else\n",
    "            return d*Sᵢ₋₁\n",
    "        end\n",
    "    end\n",
    "end;"
   ]
  },
  {
   "cell_type": "markdown",
   "metadata": {},
   "source": [
    "Given the lookback option payoff\n",
    "\n",
    "$$V_3 = \\max_{0 \\leq n \\leq 3} S_n - S_3$$\n",
    "\n",
    "and the formula (1.2.16)\n",
    "\n",
    "$$V_i = \\frac{1}{1 + r} (\\tilde p V_{i + 1}(H) + \\tilde q V_{i + 1}(T)),$$\n",
    "\n",
    "we define $V(\\omega_1 \\omega_2 \\ldots \\omega_i) = V_i$:"
   ]
  },
  {
   "cell_type": "code",
   "execution_count": 13,
   "metadata": {},
   "outputs": [],
   "source": [
    "function V(ω::Toss...)\n",
    "    i = length(ω)\n",
    "    if i == 3\n",
    "        S₁ = S(ω[1])\n",
    "        S₂ = S(ω[1 : 2]...)\n",
    "        S₃ = S(ω[1 : 3]...)\n",
    "        # lookback option payoff\n",
    "        return max(S₀ - S₃, S₁ - S₃, S₂ - S₃, S₃ - S₃)\n",
    "    elseif i < 3\n",
    "        # formula (1.2.16)\n",
    "        return 1/(1 + r)*(p̃*V(ω..., H) + q̃*V(ω..., T))\n",
    "    else\n",
    "        error(\"out of domain parameter\")\n",
    "    end\n",
    "end;"
   ]
  },
  {
   "cell_type": "markdown",
   "metadata": {},
   "source": [
    "From the formula (1.2.17)\n",
    "\n",
    "$$\\Delta_i = \\frac{V_{i + 1}(H) - V_{i + 1}(T)}{S_{i + 1}(H) - S_{i + 1}(T)},$$\n",
    "\n",
    "we define $\\Delta(\\omega_1 \\omega_2 \\ldots \\omega_i) = \\Delta_i$:"
   ]
  },
  {
   "cell_type": "code",
   "execution_count": 14,
   "metadata": {},
   "outputs": [],
   "source": [
    "Δ(ω::Toss...) = (V(ω..., H) - V(ω..., T))/(S(ω..., H) - S(ω..., T));"
   ]
  },
  {
   "cell_type": "markdown",
   "metadata": {},
   "source": [
    "Given\n",
    "\n",
    "$$\\rho_0 = 0$$\n",
    "\n",
    "and reindexing the strategy derived in this excercise\n",
    "\n",
    "$$\\rho_{i} = (1 + r)(\\Delta_{i - 1} S_{i - 1} + \\rho_{i - 1}) - \\Delta_{i - 1} S_i.$$\n",
    "\n",
    "we define $\\rho(\\omega_1 \\omega_2 \\ldots \\omega_i) = \\rho_i$:"
   ]
  },
  {
   "cell_type": "code",
   "execution_count": 15,
   "metadata": {},
   "outputs": [],
   "source": [
    "function ρ(ω::Toss...)\n",
    "    i = length(ω)\n",
    "    if i == 0\n",
    "        # ρ₀ = 0\n",
    "        return 0\n",
    "    else\n",
    "        Δᵢ₋₁ = Δ(ω[1 : end - 1]...)\n",
    "        Sᵢ = S(ω...)\n",
    "        ρᵢ₋₁ = ρ(ω[1 : end - 1]...)\n",
    "        Sᵢ₋₁ = S(ω[1 : end - 1]...)\n",
    "        return (1 + r)*(Δᵢ₋₁*Sᵢ₋₁ + ρᵢ₋₁) - Δᵢ₋₁*Sᵢ\n",
    "    end\n",
    "end;    "
   ]
  },
  {
   "cell_type": "markdown",
   "metadata": {},
   "source": [
    "Hence, we get the total portfolio value $\\zeta_3$ at **time 3** for every possible outcome in the sample space:"
   ]
  },
  {
   "cell_type": "code",
   "execution_count": 16,
   "metadata": {},
   "outputs": [
    {
     "name": "stdout",
     "output_type": "stream",
     "text": [
      "ζ₃(HHH) = 2.6875\n",
      "ζ₃(HHT) = 2.6875\n",
      "ζ₃(HTH) = 2.6875\n",
      "ζ₃(HTT) = 2.6875\n",
      "ζ₃(THH) = 2.6875\n",
      "ζ₃(THT) = 2.6875\n",
      "ζ₃(TTH) = 2.6875\n",
      "ζ₃(TTT) = 2.6875\n"
     ]
    }
   ],
   "source": [
    "ωᵢ = instances(Toss)\n",
    "for ω₁ ∈ ωᵢ, ω₂ ∈ ωᵢ, ω₃ ∈ ωᵢ\n",
    "    V₃ = V(ω₁, ω₂, ω₃)\n",
    "    ρ₃ = ρ(ω₁, ω₂, ω₃)\n",
    "    ζ₃ = V₃ + ρ₃\n",
    "    println(\"ζ₃($ω₁$ω₂$ω₃) = $ζ₃\")\n",
    "end"
   ]
  }
 ],
 "metadata": {
  "kernelspec": {
   "display_name": "Julia 1.0.2",
   "language": "julia",
   "name": "julia-1.0"
  },
  "language_info": {
   "file_extension": ".jl",
   "mimetype": "application/julia",
   "name": "julia",
   "version": "1.0.3"
  }
 },
 "nbformat": 4,
 "nbformat_minor": 2
}
