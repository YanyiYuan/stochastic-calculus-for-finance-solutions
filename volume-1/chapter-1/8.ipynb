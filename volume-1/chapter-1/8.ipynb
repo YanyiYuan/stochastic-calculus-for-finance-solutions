{
 "cells": [
  {
   "cell_type": "markdown",
   "metadata": {},
   "source": [
    "**Exercise 1.8. (Asian option).** Consider the three-period model of Example 1.2.1 with $S_0 = 4$, $u = 2$, $d = \\frac{1}{2}$, and take the interest rate $r = \\frac{1}{4}$, so that $\\tilde p = \\tilde q = \\frac{1}{2}$. For $n = 0, 1, 2, 3$, define $Y_n = \\sum_{k = 0}^n S_k$ to be the sum of the stock prices between times zero and $n$. Consider an *Asian call* option that expires at time three and has strike $K = 4$ (i.e., whose payoff at time three is $\\left(\\frac{1}{4} Y_3 − 4)^+\\right)$). This is like a European call, except the payoff of the option is based on the average stock price rather than the final stock price. Let $v_n(s, y)$ denote the price of this option at time $n$ if $S_n = s$ and $Y_n = y$. In particular, $v_3(s, y) = \\left(\\frac{1}{4} y − 4\\right)^+$.\n",
    "\n",
    "(i) Develop and algorithm for computing $v_n$ recursively. In particular, write a formula for $v_n$ in terms of $v_{n + 1}$.\n",
    "\n",
    "---\n",
    "\n",
    "Given the asian call payoff at time three\n",
    "\n",
    "$$v_3(s, y) = \\left(\\frac{1}{4} y − 4\\right)^+$$\n",
    "\n",
    "and the formula (1.2.16)\n",
    "\n",
    "$$V_i = \\frac{1}{1 + r} (\\tilde p V_{i + 1}(H) + \\tilde q V_{i + 1}(T)),$$\n",
    "\n",
    "we define $v(i, s, y) = v_i(s, y)$.:"
   ]
  },
  {
   "cell_type": "code",
   "execution_count": 1,
   "metadata": {},
   "outputs": [],
   "source": [
    "u = 2\n",
    "d = 1/2\n",
    "r = 1/4\n",
    "p̃ = q̃ = 1/2\n",
    "K = 4\n",
    "function v(i, s, y)\n",
    "    if i == 3\n",
    "        # asian call payoff\n",
    "        return max(0, 1/4*y - K)\n",
    "    elseif 0 ≤ i\n",
    "        # formula 1.2.16\n",
    "        return 1/(1 + r)*(p̃*v(i + 1, s*u, y + s*u) + q̃*v(i + 1, s*d, y + s*d))\n",
    "    else\n",
    "        error(\"out of domain parameter\")\n",
    "    end\n",
    "end;"
   ]
  },
  {
   "cell_type": "markdown",
   "metadata": {},
   "source": [
    "---\n",
    "\n",
    "(ii) Apply the algorithm developed in (i) to compute $v_0(4, 4)$, the price of the Asian option at time zero.\n",
    "\n",
    "---"
   ]
  },
  {
   "cell_type": "code",
   "execution_count": 2,
   "metadata": {},
   "outputs": [
    {
     "data": {
      "text/plain": [
       "1.2160000000000002"
      ]
     },
     "execution_count": 2,
     "metadata": {},
     "output_type": "execute_result"
    }
   ],
   "source": [
    "v₀ = v(0, 4, 4)"
   ]
  },
  {
   "cell_type": "markdown",
   "metadata": {},
   "source": [
    "---\n",
    "\n",
    "(iii) Provide a formula for $\\sigma_n(s, y)$, the number of shares of stock that should be held by the replicating portfolio at time $n$ if $S_n = s$ and $Y_n = y$.\n",
    "\n",
    "$$\\sigma_n(s, y) = \\frac{v_{n + 1}(s u, y + s u) - v_{n + 1}(s d, y + s d)}{u - d}$$"
   ]
  },
  {
   "cell_type": "code",
   "execution_count": 3,
   "metadata": {},
   "outputs": [],
   "source": [
    "σ(i, s, y) = (v(i + 1, s*u, y + s*u) - v(i + 1, s*d, y + s*d))/(u - d);"
   ]
  }
 ],
 "metadata": {
  "kernelspec": {
   "display_name": "Julia 1.0.2",
   "language": "julia",
   "name": "julia-1.0"
  },
  "language_info": {
   "file_extension": ".jl",
   "mimetype": "application/julia",
   "name": "julia",
   "version": "1.0.3"
  }
 },
 "nbformat": 4,
 "nbformat_minor": 2
}
