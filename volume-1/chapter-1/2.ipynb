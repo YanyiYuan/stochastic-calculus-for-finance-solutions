{
 "cells": [
  {
   "cell_type": "markdown",
   "metadata": {},
   "source": [
    "**Excercise 1.2.** Suppose in the situation of Example 1.1.1 that the option sells for 1.20 at time zero. Consider an agent who begins with wealth $X_0 = 0$ and at time zero buys $\\Delta_0$ shares of stock and $\\Gamma_0$ options. The numbers $\\Delta_0$ and $\\Gamma_0$ can be either positive or negative or zero. This leaves the agent with a cash position of $−4 \\Delta_0 −1.20 \\Gamma_0$. If this is positive, it is invested in the money market; if it is negative, it represents money borrowed from the money market. At time one, the value of the agent’s portfolio of stock, option, and money market assets is\n",
    "\n",
    "$$X_1 = \\Delta_0 S_1 + \\Gamma_0 (S_1 - 5)^+ - \\frac{5}{4} (4 \\Delta_0 + 1.20 \\Gamma_0).$$\n",
    "\n",
    "Assume that both $H$ and $T$ have positive probability of occurring. Show that if there is a positive probability that $X_1$ is positive, then there is a positive probability that $X_1$ is negative. In other words, one cannot find an arbitrage when the time-zero price of the option is 1.20.\n",
    "\n",
    "---\n",
    "\n",
    "The excercise asks us to prove that\n",
    "\n",
    "$$\n",
    "\\begin{cases}\n",
    "X_1(H) > 0 \\Rightarrow X_1(T) < 0 \\\\\n",
    "X_1(H) < 0 \\Rightarrow X_1(T) > 0\n",
    "\\end{cases}.\n",
    "$$\n",
    "\n",
    "---\n",
    "\n",
    "Defining $X_1$:"
   ]
  },
  {
   "cell_type": "code",
   "execution_count": 1,
   "metadata": {},
   "outputs": [
    {
     "data": {
      "text/latex": [
       "\\begin{equation*}S₁ Δ₀ + Γ₀ \\max\\left(0, S₁ - 5\\right) - 1.5 Γ₀ - 5.0 Δ₀\\end{equation*}"
      ],
      "text/plain": [
       "S₁⋅Δ₀ + Γ₀⋅Max(0, S₁ - 5) - 1.5⋅Γ₀ - 5.0⋅Δ₀"
      ]
     },
     "execution_count": 1,
     "metadata": {},
     "output_type": "execute_result"
    }
   ],
   "source": [
    "using SymPy\n",
    "@vars Δ₀ S₁ Γ₀\n",
    "X₁ = Δ₀*S₁ + Γ₀*max(S₁ - 5, 0) - 5/4*(4*Δ₀ + 1.20*Γ₀)"
   ]
  },
  {
   "cell_type": "markdown",
   "metadata": {},
   "source": [
    "Defining $S_0$, $u$ and $d$ as given in Example 1.1.1:"
   ]
  },
  {
   "cell_type": "code",
   "execution_count": 2,
   "metadata": {},
   "outputs": [],
   "source": [
    "S₀ = 4\n",
    "u = 2\n",
    "d = 1/2;"
   ]
  },
  {
   "cell_type": "markdown",
   "metadata": {},
   "source": [
    "We define $X_1(H)$:"
   ]
  },
  {
   "cell_type": "code",
   "execution_count": 3,
   "metadata": {},
   "outputs": [
    {
     "data": {
      "text/latex": [
       "\\begin{equation*}1.5 Γ₀ + 3.0 Δ₀\\end{equation*}"
      ],
      "text/plain": [
       "1.5⋅Γ₀ + 3.0⋅Δ₀"
      ]
     },
     "execution_count": 3,
     "metadata": {},
     "output_type": "execute_result"
    }
   ],
   "source": [
    "X₁H = X₁(S₁ => S₀*u)"
   ]
  },
  {
   "cell_type": "markdown",
   "metadata": {},
   "source": [
    "and $X_1(T)$:"
   ]
  },
  {
   "cell_type": "code",
   "execution_count": 4,
   "metadata": {},
   "outputs": [
    {
     "data": {
      "text/latex": [
       "\\begin{equation*}- 1.5 Γ₀ - 3.0 Δ₀\\end{equation*}"
      ],
      "text/plain": [
       "-1.5⋅Γ₀ - 3.0⋅Δ₀"
      ]
     },
     "execution_count": 4,
     "metadata": {},
     "output_type": "execute_result"
    }
   ],
   "source": [
    "X₁T = X₁(S₁ => S₀*d)"
   ]
  },
  {
   "cell_type": "markdown",
   "metadata": {},
   "source": [
    "$X_1(H) = -X_1(T)$:"
   ]
  },
  {
   "cell_type": "code",
   "execution_count": 5,
   "metadata": {},
   "outputs": [
    {
     "data": {
      "text/plain": [
       "true"
      ]
     },
     "execution_count": 5,
     "metadata": {},
     "output_type": "execute_result"
    }
   ],
   "source": [
    "X₁H == -X₁T"
   ]
  },
  {
   "cell_type": "markdown",
   "metadata": {},
   "source": [
    "So,\n",
    "\n",
    "$$\n",
    "X_1(H) = -X_1(T) \\Rightarrow\n",
    "\\begin{cases}\n",
    "X_1(H) > 0 \\Rightarrow X_1(T) < 0 \\\\\n",
    "X_1(H) < 0 \\Rightarrow X_1(T) > 0\n",
    "\\end{cases}\n",
    "$$\n",
    "\n",
    "$$\\square$$"
   ]
  }
 ],
 "metadata": {
  "kernelspec": {
   "display_name": "Julia 1.1.0",
   "language": "julia",
   "name": "julia-1.1"
  },
  "language_info": {
   "file_extension": ".jl",
   "mimetype": "application/julia",
   "name": "julia",
   "version": "1.1.0"
  }
 },
 "nbformat": 4,
 "nbformat_minor": 2
}
